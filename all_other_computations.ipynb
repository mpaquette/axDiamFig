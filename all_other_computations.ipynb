{
 "cells": [
  {
   "cell_type": "markdown",
   "metadata": {},
   "source": [
    "### This notebook is a companion to the preprint [Axon Diameter Measurements using Diffusion MRI are Infeasible](https://www.biorxiv.org/content/10.1101/2020.10.01.320507v1)  \n",
    "#### Michael Paquette, Cornelius Eichner, Thomas R. Kn&ouml;sche, and Alfred Anwander  "
   ]
  },
  {
   "cell_type": "markdown",
   "metadata": {},
   "source": [
    "This notebook includes the computation for every single values used in the text outside of the figures."
   ]
  },
  {
   "cell_type": "markdown",
   "metadata": {},
   "source": [
    "<a id='PageTop'></a>\n",
    "#### Content (clickable)\n",
    "[Table 1: Signal decay](#table1)  \n",
    "[Table 2: d<sub>min</sub>](#table2)  \n",
    "[Signal decay](#signalDecay)  \n",
    "[SNR and standard deviation](#SNRstd)  \n",
    "[Diameter limit](#dmin)  \n",
    "[Volume Fraction](#volfrac)  \n",
    "[Extra Axonal contamination](#extraContamin)  \n",
    "\n"
   ]
  },
  {
   "cell_type": "code",
   "execution_count": 1,
   "metadata": {},
   "outputs": [],
   "source": [
    "import numpy as np\n",
    "import prettytable as pt\n",
    "import scipy.stats as ss\n",
    "from vangelderen import vangelderen_cylinder_perp as vg # formula from []\n",
    "from scheme import expand_scheme"
   ]
  },
  {
   "cell_type": "code",
   "execution_count": 2,
   "metadata": {},
   "outputs": [],
   "source": [
    "# compute d_min as in Nilsson etal []\n",
    "gamma = 42.515e6 * 2*np.pi #  T^-1 s^-1\n",
    "def nilsson_diameter(sigma_bar, D_0, delta, G):\n",
    "    # d_min =  ((768 sigma_bar D_0) / (7 gamma^2 delta G^2))^(1/4)\n",
    "    # assume delta = DELTA\n",
    "    # valid (expanded) around low diffusivity (aka low d_min)\n",
    "    return ((768 * sigma_bar * D_0) / (7. * gamma**2 * delta * G**2))**(1/4.)"
   ]
  },
  {
   "cell_type": "code",
   "execution_count": 3,
   "metadata": {},
   "outputs": [],
   "source": [
    "# convert normalized signal to percentage signal decay\n",
    "def S2PD(signal):\n",
    "    return (1-signal)*100"
   ]
  },
  {
   "cell_type": "code",
   "execution_count": 4,
   "metadata": {},
   "outputs": [],
   "source": [
    "# formating in float\n",
    "def fmt_f(val, ndigit, magscale):\n",
    "    # return a string of val scaled by 10^magscale with ndigit digits \n",
    "    float_format = \"{:.\" + str(ndigit) + \"f}\"\n",
    "    return float_format.format(val*(10**magscale))\n",
    "\n",
    "# formating in sci notation\n",
    "def fmt_e(val, ndigit):\n",
    "    # return a string of val with ndigit digits \n",
    "    float_format = \"{:.\" + str(ndigit) + \"e}\"\n",
    "    return float_format.format(val)"
   ]
  },
  {
   "cell_type": "code",
   "execution_count": null,
   "metadata": {},
   "outputs": [],
   "source": []
  },
  {
   "cell_type": "markdown",
   "metadata": {},
   "source": [
    "<a id='table1'></a>\n",
    "## Table 1\n",
    "[Back to top of the page](#PageTop)"
   ]
  },
  {
   "cell_type": "code",
   "execution_count": 5,
   "metadata": {},
   "outputs": [],
   "source": [
    "# Parameter setup\n",
    "\n",
    "# scanning parameter \n",
    "list_G = [0.04, 0.04, 0.3, 0.3] # T/m\n",
    "list_DELTA = [0.01, 0.04, 0.01, 0.04] # s\n",
    "list_delta = [0.01, 0.04, 0.01, 0.04] # s\n",
    "scheme = np.array([a for a in zip(list_G, list_DELTA, list_delta)])\n",
    "\n",
    "# diffusivities\n",
    "D_invivo =     2.0e-9  # m^2/s   i.e. 2    (um)^2/ms\n",
    "D_postmortem = 0.66e-9 # m^2/s   i.e. 0.66 (um)^2/ms\n",
    "\n",
    "# axon diameters\n",
    "diam_sma = 0.5e-6 # m i.e. 0.5 um\n",
    "diam_med = 1.0e-6 # m i.e. 1.0 um\n",
    "diam_big = 2.0e-6 # m i.e. 2.0 um"
   ]
  },
  {
   "cell_type": "code",
   "execution_count": 6,
   "metadata": {},
   "outputs": [],
   "source": [
    "# signal compuation with Vangelderen formula with 50 terms \n",
    "S_invivo_sma = vg(D_invivo, diam_sma/2., scheme, 50)\n",
    "S_invivo_med = vg(D_invivo, diam_med/2., scheme, 50)\n",
    "S_invivo_big = vg(D_invivo, diam_big/2., scheme, 50)\n",
    "\n",
    "S_postmortem_sma = vg(D_postmortem, diam_sma/2., scheme, 50)\n",
    "S_postmortem_med = vg(D_postmortem, diam_med/2., scheme, 50)\n",
    "S_postmortem_big = vg(D_postmortem, diam_big/2., scheme, 50)"
   ]
  },
  {
   "cell_type": "code",
   "execution_count": 7,
   "metadata": {},
   "outputs": [
    {
     "name": "stdout",
     "output_type": "stream",
     "text": [
      "+---------------------------------------------------------------------+\n",
      "|                     In-vivo (D_0 = 2.00 um^2/ms)                    |\n",
      "+------------+-----------------+------------+------------+------------+\n",
      "| times (ms) | Gradient (mT/m) | d = 0.5 um | d = 1.0 um | d = 2.0 um |\n",
      "+------------+-----------------+------------+------------+------------+\n",
      "|     10     |        40       |  3.2e-05   |  5.2e-04   |  8.1e-03   |\n",
      "|     40     |        40       |  1.3e-04   |  2.1e-03   |  3.3e-02   |\n",
      "|     10     |       300       |  1.8e-03   |  2.9e-02   |  4.6e-01   |\n",
      "|     40     |       300       |  7.3e-03   |  1.2e-01   |  1.8e+00   |\n",
      "+------------+-----------------+------------+------------+------------+\n",
      "+---------------------------------------------------------------------+\n",
      "|                   Postmortem (D_0 = 0.66 um^2/ms)                   |\n",
      "+------------+-----------------+------------+------------+------------+\n",
      "| times (ms) | Gradient (mT/m) | d = 0.5 um | d = 1.0 um | d = 2.0 um |\n",
      "+------------+-----------------+------------+------------+------------+\n",
      "|     10     |        40       |  9.8e-05   |  1.6e-03   |  2.4e-02   |\n",
      "|     40     |        40       |  3.9e-04   |  6.3e-03   |  9.9e-02   |\n",
      "|     10     |       300       |  5.5e-03   |  8.7e-02   |  1.3e+00   |\n",
      "|     40     |       300       |  2.2e-02   |  3.5e-01   |  5.4e+00   |\n",
      "+------------+-----------------+------------+------------+------------+\n"
     ]
    }
   ],
   "source": [
    "# generate and print table\n",
    "\n",
    "# formating func for rounding in the prettytable\n",
    "def fmt(signal, ndigit):\n",
    "    return  fmt_e(S2PD(signal), ndigit)\n",
    "\n",
    "x_invivo = pt.PrettyTable()\n",
    "x_invivo.title = 'In-vivo (D_0 = {:.2f} um^2/ms)'.format(D_invivo*1e9)\n",
    "x_invivo.field_names = [\"times (ms)\", \"Gradient (mT/m)\", \"d = {} um\".format(diam_sma*1e6), \"d = {} um\".format(diam_med*1e6), \"d = {} um\".format(diam_big*1e6)]\n",
    "\n",
    "for i in range(scheme.shape[0]):\n",
    "    x_invivo.add_row([fmt_f(scheme[i,1], 0, 3), fmt_f(scheme[i,0], 0, 3), fmt(S_invivo_sma[i], 1), fmt(S_invivo_med[i], 1), fmt(S_invivo_big[i], 1)])\n",
    "\n",
    "print(x_invivo)\n",
    "\n",
    "x_postmortem = pt.PrettyTable()\n",
    "x_postmortem.title = 'Postmortem (D_0 = {:.2f} um^2/ms)'.format(D_postmortem*1e9)\n",
    "x_postmortem.field_names = [\"times (ms)\", \"Gradient (mT/m)\", \"d = {} um\".format(diam_sma*1e6), \"d = {} um\".format(diam_med*1e6), \"d = {} um\".format(diam_big*1e6)]\n",
    "\n",
    "for i in range(scheme.shape[0]):\n",
    "    x_postmortem.add_row([fmt_f(scheme[i,1], 0, 3), fmt_f(scheme[i,0], 0, 3), fmt(S_postmortem_sma[i], 1), fmt(S_postmortem_med[i], 1), fmt(S_postmortem_big[i], 1)])\n",
    "\n",
    "print(x_postmortem)"
   ]
  },
  {
   "cell_type": "markdown",
   "metadata": {},
   "source": [
    "<a id='table2'></a>\n",
    "## Table 2\n",
    "[Back to top of the page](#PageTop)"
   ]
  },
  {
   "cell_type": "code",
   "execution_count": 8,
   "metadata": {},
   "outputs": [],
   "source": [
    "# Parameter setup\n",
    "\n",
    "# scanning parameter \n",
    "# Diffusivity / DELTA=delta / G\n",
    "scheme = np.array([[2.00e-9, 40e-3,   40e-3],\n",
    "                   [2.00e-9, 40e-3,  300e-3],                  \n",
    "                   [2.00e-9, 40e-3, 1500e-3],                  \n",
    "                   [0.66e-9, 40e-3,   40e-3],                  \n",
    "                   [0.66e-9, 40e-3,  300e-3],                  \n",
    "                   [0.66e-9, 40e-3, 1500e-3]])\n",
    "\n",
    "# SNRs corresponding to detectable decay of 1%, 2.5% and 5%\n",
    "SNRs = np.array([164, 65.6, 32.8])"
   ]
  },
  {
   "cell_type": "code",
   "execution_count": 9,
   "metadata": {},
   "outputs": [],
   "source": [
    "# significance level\n",
    "alpha = 0.05\n",
    "result = np.zeros((scheme.shape[0], SNRs.shape[0]))\n",
    "for i_s, s in enumerate(scheme):\n",
    "    for i_snr, snr in enumerate(SNRs):\n",
    "        # convert snr to minimum detectable\n",
    "        sigma_bar = ss.norm().ppf(1-alpha) / snr\n",
    "        # compute dmin\n",
    "        result[i_s, i_snr] = nilsson_diameter(sigma_bar, s[0], s[1], s[2])"
   ]
  },
  {
   "cell_type": "code",
   "execution_count": 10,
   "metadata": {},
   "outputs": [
    {
     "name": "stdout",
     "output_type": "stream",
     "text": [
      "+----------------------------------------------------------------------------------------------+\n",
      "|                                            d_min                                             |\n",
      "+-----------------------+------------+-----------------+-------------+------------+------------+\n",
      "| Diffusivity (um^2/ms) | times (ms) | Gradient (mT/m) | SNR = 164.0 | SNR = 65.6 | SNR = 32.8 |\n",
      "+-----------------------+------------+-----------------+-------------+------------+------------+\n",
      "|          2.00         |     40     |        40       |     4.69    |    5.89    |    7.01    |\n",
      "|          2.00         |     40     |       300       |     1.71    |    2.15    |    2.56    |\n",
      "|          2.00         |     40     |       1500      |     0.77    |    0.96    |    1.14    |\n",
      "|          0.66         |     40     |        40       |     3.55    |    4.47    |    5.31    |\n",
      "|          0.66         |     40     |       300       |     1.30    |    1.63    |    1.94    |\n",
      "|          0.66         |     40     |       1500      |     0.58    |    0.73    |    0.87    |\n",
      "+-----------------------+------------+-----------------+-------------+------------+------------+\n"
     ]
    }
   ],
   "source": [
    "# generate and print table\n",
    "x_dmin = pt.PrettyTable()\n",
    "x_dmin.title = 'd_min'\n",
    "x_dmin.field_names = [\"Diffusivity (um^2/ms)\", \"times (ms)\", \"Gradient (mT/m)\", \"SNR = {}\".format(SNRs[0]), \"SNR = {}\".format(SNRs[1]), \"SNR = {}\".format(SNRs[2])]\n",
    "\n",
    "for i in range(scheme.shape[0]):\n",
    "    x_dmin.add_row([fmt_f(scheme[i,0], 2, 9), fmt_f(scheme[i,1], 0, 3), fmt_f(scheme[i,2], 0, 3), fmt_f(result[i, 0], 2, 6), fmt_f(result[i, 1], 2, 6), fmt_f(result[i, 2], 2, 6)])\n",
    "\n",
    "print(x_dmin)"
   ]
  },
  {
   "cell_type": "markdown",
   "metadata": {},
   "source": [
    "<a id='signalDecay'></a>\n",
    "## Signal Decay\n",
    "[Back to top of the page](#PageTop)"
   ]
  },
  {
   "cell_type": "markdown",
   "metadata": {},
   "source": [
    "Various signal decay claims in the manuscript."
   ]
  },
  {
   "cell_type": "code",
   "execution_count": 11,
   "metadata": {},
   "outputs": [
    {
     "name": "stdout",
     "output_type": "stream",
     "text": [
      "0.12 %\n"
     ]
    }
   ],
   "source": [
    "# section 2.2 L154: \n",
    "\n",
    "# scanning parameter \n",
    "G = 0.3 # T/m\n",
    "DELTA = 0.04 # s\n",
    "delta = 0.04 # s\n",
    "# diffusivities\n",
    "D = 2.0e-9  # m^2/s   i.e. 2    (um)^2/ms\n",
    "# axon diameter\n",
    "diam = 1.0e-6 # m i.e. 1.0 um\n",
    "# Van Gelderen formula, 50 terms\n",
    "signal = vg(D, diam/2., np.array([[G, DELTA, delta]]), 50)\n",
    "\n",
    "# convert to signal decay percentage\n",
    "print(fmt_f(S2PD(signal)[0], 2, 0) + \" %\")"
   ]
  },
  {
   "cell_type": "code",
   "execution_count": 12,
   "metadata": {},
   "outputs": [
    {
     "name": "stdout",
     "output_type": "stream",
     "text": [
      "0.35 %\n"
     ]
    }
   ],
   "source": [
    "# Caption of table 1: \n",
    "\n",
    "# scanning parameter \n",
    "G = 0.3 # T/m\n",
    "DELTA = 0.04 # s\n",
    "delta = 0.04 # s\n",
    "# diffusivities\n",
    "D = 0.66e-9  # m^2/s   i.e. 0.66    (um)^2/ms\n",
    "# axon diameter\n",
    "diam = 1.0e-6 # m i.e. 1.0 um\n",
    "# Van Gelderen formula, 50 terms\n",
    "signal = vg(D, diam/2., np.array([[G, DELTA, delta]]), 50)\n",
    "\n",
    "# convert to signal decay percentage\n",
    "print(fmt_f(S2PD(signal)[0], 2, 0) + \" %\")"
   ]
  },
  {
   "cell_type": "code",
   "execution_count": 13,
   "metadata": {},
   "outputs": [
    {
     "name": "stdout",
     "output_type": "stream",
     "text": [
      "comb-1: 35% (4.95 um) + 65% (2.90 um)\n",
      "S = [8.21e-01, 7.75e-01, 7.36e-01]\n",
      "\n",
      "comb-2: 30% (4.50 um) + 70% (3.50 um)\n",
      "S = [8.26e-01, 7.76e-01, 7.31e-01]\n",
      "\n",
      "comb-1: 100% (3.85 um) + 0% (3.85 um)\n",
      "S = [8.27e-01, 7.76e-01, 7.29e-01]\n",
      "\n",
      "comb-1: 45% (0.10 um) + 55% (4.60 um)\n",
      "S = [8.25e-01, 7.79e-01, 7.40e-01]\n",
      "\n"
     ]
    }
   ],
   "source": [
    "# section 3 L395: \n",
    "# signal decays difference of 2-cylinder combination for the 3 gradient sampling scheme\n",
    "\n",
    "# !! Values in the paper where a bit too eyeballed, will fix in new version\n",
    "#  35% 5.0um + 65% 3.0um -->  35% 4.95um + 65% 2.90um\n",
    "# 100% 4.0um             --> 100% 3.85um\n",
    "#  45% 0.1um + 55% 5.0um --> 45%  0.10um + 55% 4.60um\n",
    "\n",
    "# scanning parameter \n",
    "G = 0.3 # T/m\n",
    "DELTA = 0.05 # s\n",
    "delta = [0.03, 0.04, 0.05] # s\n",
    "scheme = np.array([[G, DELTA, delta[0]],\n",
    "                   [G, DELTA, delta[1]],\n",
    "                   [G, DELTA, delta[2]]])\n",
    "\n",
    "# diffusivities\n",
    "D = 2.0e-9  # m^2/s\n",
    "# axon diameters\n",
    "d1 = 4.95e-6 # m\n",
    "d2 = 2.9e-6 # m\n",
    "# signal fractions\n",
    "sf1 = 0.35\n",
    "sf2 = 0.65\n",
    "# Van Gelderen formula, 50 terms\n",
    "s1 = vg(D, d1/2., scheme, 50)\n",
    "s2 = vg(D, d2/2., scheme, 50)\n",
    "signal1 = sf1*s1 + sf2*s2\n",
    "\n",
    "# convert to signal decay percentage\n",
    "name1 = 'comb-1: {:.0f}% ({:.2f} um) + {:.0f}% ({:.2f} um)'.format(100*sf1, d1*1e6, 100*sf2, d2*1e6)\n",
    "print(name1)\n",
    "print('S = [{:.2e}, {:.2e}, {:.2e}]\\n'.format(*signal1))\n",
    "\n",
    "\n",
    "# diffusivities\n",
    "D = 2.0e-9  # m^2/s\n",
    "# axon diameters\n",
    "d1 = 4.5e-6 # m\n",
    "d2 = 3.5e-6 # m\n",
    "# signal fractions\n",
    "sf1 = 0.30\n",
    "sf2 = 0.70\n",
    "# Van Gelderen formula, 50 terms\n",
    "s1 = vg(D, d1/2., scheme, 50)\n",
    "s2 = vg(D, d2/2., scheme, 50)\n",
    "signal2 = sf1*s1 + sf2*s2\n",
    "\n",
    "# convert to signal decay percentage\n",
    "name2 = 'comb-2: {:.0f}% ({:.2f} um) + {:.0f}% ({:.2f} um)'.format(100*sf1, d1*1e6, 100*sf2, d2*1e6)\n",
    "print(name2)\n",
    "print('S = [{:.2e}, {:.2e}, {:.2e}]\\n'.format(*signal2))\n",
    "\n",
    "\n",
    "# diffusivities\n",
    "D = 2.0e-9  # m^2/s\n",
    "# axon diameters\n",
    "d1 = 3.85e-6 # m\n",
    "d2 = 3.85e-6 # m\n",
    "# signal fractions\n",
    "sf1 = 1.00\n",
    "sf2 = 0.00\n",
    "# Van Gelderen formula, 50 terms\n",
    "s1 = vg(D, d1/2., scheme, 50)\n",
    "s2 = vg(D, d2/2., scheme, 50)\n",
    "signal3 = sf1*s1 + sf2*s2\n",
    "\n",
    "# convert to signal decay percentage\n",
    "name3 = 'comb-1: {:.0f}% ({:.2f} um) + {:.0f}% ({:.2f} um)'.format(100*sf1, d1*1e6, 100*sf2, d2*1e6)\n",
    "print(name3)\n",
    "print('S = [{:.2e}, {:.2e}, {:.2e}]\\n'.format(*signal3))\n",
    "\n",
    "\n",
    "# diffusivities\n",
    "D = 2.0e-9  # m^2/s\n",
    "# axon diameters\n",
    "d1 = 0.1e-6 # m\n",
    "d2 = 4.6e-6 # m\n",
    "# signal fractions\n",
    "sf1 = 0.45\n",
    "sf2 = 0.55\n",
    "# Van Gelderen formula, 50 terms\n",
    "s1 = vg(D, d1/2., scheme, 50)\n",
    "s2 = vg(D, d2/2., scheme, 50)\n",
    "signal4 = sf1*s1 + sf2*s2\n",
    "\n",
    "# convert to signal decay percentage\n",
    "name4 = 'comb-1: {:.0f}% ({:.2f} um) + {:.0f}% ({:.2f} um)'.format(100*sf1, d1*1e6, 100*sf2, d2*1e6)\n",
    "print(name4)\n",
    "print('S = [{:.2e}, {:.2e}, {:.2e}]\\n'.format(*signal4))\n",
    "\n",
    "# import pylab as pl\n",
    "# pl.figure(figsize=(8,6))\n",
    "# pl.plot(np.array(delta)*1e3, signal1, label = name1)\n",
    "# pl.plot(np.array(delta)*1e3, signal2, label = name2)\n",
    "# pl.plot(np.array(delta)*1e3, signal3, label = name3)\n",
    "# pl.plot(np.array(delta)*1e3, signal4, label = name4)\n",
    "# pl.legend()\n",
    "# pl.errorbar(np.array(delta)*1e3, np.concatenate((signal1[:,None], signal2[:,None], signal3[:,None], signal4[:,None]), axis=1).mean(axis=1), yerr=0.005)\n",
    "# pl.xlabel('delta (ms)')\n",
    "# pl.ylabel('Signal')\n",
    "# pl.show()"
   ]
  },
  {
   "cell_type": "code",
   "execution_count": null,
   "metadata": {},
   "outputs": [],
   "source": []
  },
  {
   "cell_type": "markdown",
   "metadata": {},
   "source": [
    "<a id='SNRstd'></a>\n",
    "## SNR and standard deviation\n",
    "[Back to top of the page](#PageTop)"
   ]
  },
  {
   "cell_type": "markdown",
   "metadata": {},
   "source": [
    "Various claim about the equivalent signal decay to 1 standard deviation of some SNR"
   ]
  },
  {
   "cell_type": "code",
   "execution_count": 14,
   "metadata": {},
   "outputs": [
    {
     "name": "stdout",
     "output_type": "stream",
     "text": [
      "833\n"
     ]
    }
   ],
   "source": [
    "# section 2.2 L157: \n",
    "\n",
    "target_decay = 0.0012 # 0.12 %\n",
    "nb_std = 1.0 # standard deviation\n",
    "# with gaussian noise and \"S(b=0) = 1\", \n",
    "# we have signal decay associated with 1 std equal to 1/SNR\n",
    "SNR = nb_std/target_decay\n",
    "print(fmt_f(SNR, 0, 0))"
   ]
  },
  {
   "cell_type": "code",
   "execution_count": 15,
   "metadata": {},
   "outputs": [
    {
     "name": "stdout",
     "output_type": "stream",
     "text": [
      "1667\n"
     ]
    }
   ],
   "source": [
    "# section 2.2 L160: \n",
    "\n",
    "target_decay = 0.0012 # 0.12 %\n",
    "nb_std = 2.0 # standard deviation\n",
    "# with gaussian noise and \"S(b=0) = 1\", \n",
    "# we have signal decay associated with 1 std equal to 1/SNR\n",
    "SNR = nb_std/target_decay\n",
    "print(fmt_f(SNR, 0, 0))"
   ]
  },
  {
   "cell_type": "code",
   "execution_count": 16,
   "metadata": {},
   "outputs": [
    {
     "name": "stdout",
     "output_type": "stream",
     "text": [
      "30\n"
     ]
    }
   ],
   "source": [
    "# Caption of table 1: \n",
    "\n",
    "target_decay = 0.033 # 3.3 %\n",
    "nb_std = 1.0 # standard deviation\n",
    "# with gaussian noise and \"S(b=0) = 1\", \n",
    "# we have signal decay associated with 1 std equal to 1/SNR\n",
    "SNR = nb_std/target_decay\n",
    "print(fmt_f(SNR, 0, 0))"
   ]
  },
  {
   "cell_type": "code",
   "execution_count": 17,
   "metadata": {},
   "outputs": [
    {
     "name": "stdout",
     "output_type": "stream",
     "text": [
      "571\n"
     ]
    }
   ],
   "source": [
    "# Caption of table 1: \n",
    "\n",
    "target_decay = 0.0035 # 0.35 %\n",
    "nb_std = 2.0 # standard deviation\n",
    "# with gaussian noise and \"S(b=0) = 1\", \n",
    "# we have signal decay associated with 1 std equal to 1/SNR\n",
    "SNR = nb_std/target_decay\n",
    "print(fmt_f(SNR, 0, 0))"
   ]
  },
  {
   "cell_type": "code",
   "execution_count": 18,
   "metadata": {},
   "outputs": [
    {
     "name": "stdout",
     "output_type": "stream",
     "text": [
      "164\n"
     ]
    }
   ],
   "source": [
    "# In Table 2:\n",
    "# choice of SNRs\n",
    "\n",
    "target_decay = 0.01 # 1.0 %\n",
    "nb_std = 1.645 # equivalent to alpha 0.05\n",
    "# with gaussian noise and \"S(b=0) = 1\", \n",
    "# we have signal decay associated with 1 std equal to 1/SNR\n",
    "SNR = nb_std/target_decay\n",
    "print(fmt_f(SNR, 0, 0))"
   ]
  },
  {
   "cell_type": "code",
   "execution_count": 19,
   "metadata": {},
   "outputs": [
    {
     "name": "stdout",
     "output_type": "stream",
     "text": [
      "65.8\n"
     ]
    }
   ],
   "source": [
    "# In Table 2:\n",
    "# choice of SNRs\n",
    "\n",
    "target_decay = 0.025 # 2.5 %\n",
    "nb_std = 1.645 # equivalent to alpha 0.05\n",
    "# with gaussian noise and \"S(b=0) = 1\", \n",
    "# we have signal decay associated with 1 std equal to 1/SNR\n",
    "SNR = nb_std/target_decay\n",
    "print(fmt_f(SNR, 1, 0))"
   ]
  },
  {
   "cell_type": "code",
   "execution_count": 20,
   "metadata": {},
   "outputs": [
    {
     "name": "stdout",
     "output_type": "stream",
     "text": [
      "32.9\n"
     ]
    }
   ],
   "source": [
    "# In Table 2:\n",
    "# choice of SNRs\n",
    "\n",
    "target_decay = 0.05 # 5.0 %\n",
    "nb_std = 1.645 # equivalent to alpha 0.05\n",
    "# with gaussian noise and \"S(b=0) = 1\", \n",
    "# we have signal decay associated with 1 std equal to 1/SNR\n",
    "SNR = nb_std/target_decay\n",
    "print(fmt_f(SNR, 1, 0))"
   ]
  },
  {
   "cell_type": "code",
   "execution_count": 21,
   "metadata": {},
   "outputs": [
    {
     "name": "stdout",
     "output_type": "stream",
     "text": [
      "1645\n"
     ]
    }
   ],
   "source": [
    "# section 3 L396: \n",
    "\n",
    "target_decay = 0.001 # 0.1 %\n",
    "nb_std = 1.645 # standard deviation\n",
    "# with gaussian noise and \"S(b=0) = 1\", \n",
    "# we have signal decay associated with 1 std equal to 1/SNR\n",
    "SNR = nb_std/target_decay\n",
    "print(fmt_f(SNR, 0, 0))"
   ]
  },
  {
   "cell_type": "code",
   "execution_count": 22,
   "metadata": {},
   "outputs": [
    {
     "name": "stdout",
     "output_type": "stream",
     "text": [
      "329\n"
     ]
    }
   ],
   "source": [
    "# section 3 L396: \n",
    "\n",
    "target_decay = 0.005 # 0.1 %\n",
    "nb_std = 1.645 # standard deviation\n",
    "# with gaussian noise and \"S(b=0) = 1\", \n",
    "# we have signal decay associated with 1 std equal to 1/SNR\n",
    "SNR = nb_std/target_decay\n",
    "print(fmt_f(SNR, 0, 0))"
   ]
  },
  {
   "cell_type": "code",
   "execution_count": null,
   "metadata": {},
   "outputs": [],
   "source": []
  },
  {
   "cell_type": "code",
   "execution_count": null,
   "metadata": {},
   "outputs": [],
   "source": []
  },
  {
   "cell_type": "code",
   "execution_count": null,
   "metadata": {},
   "outputs": [],
   "source": []
  },
  {
   "cell_type": "code",
   "execution_count": null,
   "metadata": {},
   "outputs": [],
   "source": []
  },
  {
   "cell_type": "code",
   "execution_count": null,
   "metadata": {},
   "outputs": [],
   "source": []
  },
  {
   "cell_type": "markdown",
   "metadata": {},
   "source": [
    "<a id='dmin'></a>\n",
    "## Diameter limit \n",
    "[Back to top of the page](#PageTop)"
   ]
  },
  {
   "cell_type": "markdown",
   "metadata": {},
   "source": [
    "Various claim about Nilsson etal diameter limit at $\\alpha$ = 0.05"
   ]
  },
  {
   "cell_type": "code",
   "execution_count": 23,
   "metadata": {},
   "outputs": [
    {
     "name": "stdout",
     "output_type": "stream",
     "text": [
      "2.56 um\n"
     ]
    }
   ],
   "source": [
    "# section 2.3 L177:\n",
    "\n",
    "# scanning parameter \n",
    "G = 0.3 # T/m\n",
    "delta = 0.04 # s\n",
    "# diffusivities\n",
    "D = 2.00e-9  # m^2/s   i.e. 2    (um)^2/ms\n",
    "# noise level\n",
    "snr = 32.8\n",
    "# significance level\n",
    "alpha = 0.05 \n",
    "# minimal detectable signal\n",
    "sigma_bar = ss.norm().ppf(1-alpha) / snr\n",
    "# compute dmin\n",
    "dmin = nilsson_diameter(sigma_bar, D, delta, G)\n",
    "print(fmt_f(dmin, 2, 6) + \" um\")"
   ]
  },
  {
   "cell_type": "code",
   "execution_count": 24,
   "metadata": {},
   "outputs": [
    {
     "name": "stdout",
     "output_type": "stream",
     "text": [
      "1.55 um\n",
      "1.44 um\n",
      "1.36 um\n"
     ]
    }
   ],
   "source": [
    "# section 2.3 L249:\n",
    "\n",
    "# noiseless decay of all 3 \"gradients\" of fig2 \n",
    "# converted into \"dmin\" for typical SNR = 30\n",
    "\n",
    "snr = 30\n",
    "nb_std = 1.645 # equivalent to alpha 0.05\n",
    "# with gaussian noise and \"S(b=0) = 1\", \n",
    "# we have signal decay associated with 1 std equal to 1/SNR\n",
    "target_decay = nb_std/SNR\n",
    "\n",
    "\n",
    "# scanning parameter \n",
    "G = 0.3 # T/m\n",
    "DELTA = 0.05 # s\n",
    "delta = 0.03 # s\n",
    "# diffusivities\n",
    "D = 2.0e-9  # m^2/s\n",
    "\n",
    "# building a dictionary of signal decay for this \n",
    "diams = np.linspace(1, 4, 301)*1e-6 # um\n",
    "# Van Gelderen formula, 50 terms\n",
    "decays = np.array([1-vg(D, diam/2., np.array([[G, DELTA, delta]]), 50) for diam in diams]).flatten()\n",
    "\n",
    "# rough matching\n",
    "dmin = diams[np.argmin(np.abs(decays - target_decay))]\n",
    "\n",
    "print(fmt_f(dmin, 2, 6) + \" um\")\n",
    "\n",
    "# scanning parameter \n",
    "G = 0.3 # T/m\n",
    "DELTA = 0.05 # s\n",
    "delta = 0.04 # s\n",
    "# diffusivities\n",
    "D = 2.0e-9  # m^2/s \n",
    "\n",
    "# building a dictionary of signal decay for this \n",
    "diams = np.linspace(1, 4, 301)*1e-6 # um\n",
    "# Van Gelderen formula, 50 terms\n",
    "decays = np.array([1-vg(D, diam/2., np.array([[G, DELTA, delta]]), 50) for diam in diams]).flatten()\n",
    "\n",
    "# rough matching\n",
    "dmin = diams[np.argmin(np.abs(decays - target_decay))]\n",
    "\n",
    "print(fmt_f(dmin, 2, 6) + \" um\")\n",
    "\n",
    "# scanning parameter \n",
    "G = 0.3 # T/m\n",
    "DELTA = 0.05 # s\n",
    "delta = 0.05 # s\n",
    "# diffusivities\n",
    "D = 2.0e-9  # m^2/s \n",
    "\n",
    "# building a dictionary of signal decay for this \n",
    "diams = np.linspace(1, 4, 301)*1e-6 # um\n",
    "# Van Gelderen formula, 50 terms\n",
    "decays = np.array([1-vg(D, diam/2., np.array([[G, DELTA, delta]]), 50) for diam in diams]).flatten()\n",
    "\n",
    "# rough matching\n",
    "dmin = diams[np.argmin(np.abs(decays - target_decay))]\n",
    "\n",
    "print(fmt_f(dmin, 2, 6) + \" um\")"
   ]
  },
  {
   "cell_type": "code",
   "execution_count": 25,
   "metadata": {},
   "outputs": [
    {
     "name": "stdout",
     "output_type": "stream",
     "text": [
      "0.96 um\n"
     ]
    }
   ],
   "source": [
    "# section 3 L398:\n",
    "\n",
    "# scanning parameter \n",
    "G = 0.3 # T/m\n",
    "delta = 0.04 # s\n",
    "# diffusivities\n",
    "D = 2.00e-9  # m^2/s   i.e. 2    (um)^2/ms\n",
    "# noise level\n",
    "snr = 1645\n",
    "# significance level\n",
    "alpha = 0.05 \n",
    "# minimal detectable signal\n",
    "sigma_bar = ss.norm().ppf(1-alpha) / snr\n",
    "# compute dmin\n",
    "dmin = nilsson_diameter(sigma_bar, D, delta, G)\n",
    "print(fmt_f(dmin, 2, 6) + \" um\")"
   ]
  },
  {
   "cell_type": "code",
   "execution_count": 26,
   "metadata": {},
   "outputs": [
    {
     "name": "stdout",
     "output_type": "stream",
     "text": [
      "1.44 um\n"
     ]
    }
   ],
   "source": [
    "# section 3 L398:\n",
    "\n",
    "# scanning parameter \n",
    "G = 0.3 # T/m\n",
    "delta = 0.04 # s\n",
    "# diffusivities\n",
    "D = 2.00e-9  # m^2/s   i.e. 2    (um)^2/ms\n",
    "# noise level\n",
    "snr = 329\n",
    "# significance level\n",
    "alpha = 0.05 \n",
    "# minimal detectable signal\n",
    "sigma_bar = ss.norm().ppf(1-alpha) / snr\n",
    "# compute dmin\n",
    "dmin = nilsson_diameter(sigma_bar, D, delta, G)\n",
    "print(fmt_f(dmin, 2, 6) + \" um\")"
   ]
  },
  {
   "cell_type": "code",
   "execution_count": null,
   "metadata": {},
   "outputs": [],
   "source": []
  },
  {
   "cell_type": "markdown",
   "metadata": {},
   "source": [
    "<a id='volfrac'></a>\n",
    "## Volume Fraction \n",
    "[Back to top of the page](#PageTop)"
   ]
  },
  {
   "cell_type": "markdown",
   "metadata": {},
   "source": [
    "Conversion from signal fraction to volume fraction"
   ]
  },
  {
   "cell_type": "code",
   "execution_count": 27,
   "metadata": {},
   "outputs": [
    {
     "name": "stdout",
     "output_type": "stream",
     "text": [
      "vf1 = 41.5 %\n",
      "vf2 = 58.5 %\n"
     ]
    }
   ],
   "source": [
    "# section 2.4 L239:\n",
    "\n",
    "# signal fractions\n",
    "sf1 = 0.3\n",
    "sf2 = 0.7\n",
    "# diameters\n",
    "d1 = 4.5\n",
    "d2 = 3.5\n",
    "# computing volume fractions\n",
    "vf1 = (sf1*d1**2) / (sf1*d1**2 + sf2*d2**2)\n",
    "vf2 = (sf2*d2**2) / (sf1*d1**2 + sf2*d2**2)\n",
    "\n",
    "print(\"vf1 = \" + fmt_f(vf1, 1, 2) + \" %\")\n",
    "print(\"vf2 = \" + fmt_f(vf2, 1, 2) + \" %\")"
   ]
  },
  {
   "cell_type": "code",
   "execution_count": null,
   "metadata": {},
   "outputs": [],
   "source": []
  },
  {
   "cell_type": "markdown",
   "metadata": {},
   "source": [
    "<a id='extraContamin'></a>\n",
    "## Extra Axonal contamination\n",
    "[Back to top of the page](#PageTop)"
   ]
  },
  {
   "cell_type": "markdown",
   "metadata": {},
   "source": [
    "Conversion from extraaxonal free diffusion to equivalent fake diameter."
   ]
  },
  {
   "cell_type": "code",
   "execution_count": 28,
   "metadata": {},
   "outputs": [
    {
     "name": "stdout",
     "output_type": "stream",
     "text": [
      "extra-axonal decay = 72.3 %\n",
      "target decay = 0.723 %\n",
      "2.25 um\n"
     ]
    }
   ],
   "source": [
    "# section 3 L357:\n",
    "\n",
    "# signal decay of extra axonal compartement\n",
    "gamma = 42.515e6 * 2*np.pi #  T^-1 s^-1\n",
    "\n",
    "def bval(G, DELTA, delta):\n",
    "    return (G*delta*gamma)**2 * (DELTA-(delta/3.))\n",
    "\n",
    "# scanning parameter \n",
    "G = 0.3 # T/m\n",
    "DELTA = 0.01 # s\n",
    "delta = 0.01 # s\n",
    "# diffusivities\n",
    "D = 0.3e-9  # m^2/s\n",
    "# b-value\n",
    "b = bval(G, DELTA, delta)\n",
    "# signal \n",
    "S = np.exp(-b*D)\n",
    "# signal decay\n",
    "print(\"extra-axonal decay = \" + fmt_f(S2PD(S), 1, 0) + \" %\")\n",
    "\n",
    "contamination = 0.01 # 1 % contamination \n",
    "target_decay = (contamination*(1-S))\n",
    "print('target decay = {:.3f} %'.format(100*target_decay))\n",
    "D0 = 2.0e-9  # m^2/s\n",
    "# building a dictionary of signal decay for this \n",
    "diams = np.linspace(0.5, 3.0, 251)*1e-6 # um\n",
    "# Van Gelderen formula, 50 terms\n",
    "decays = np.array([1-vg(D0, diam/2., np.array([[G, DELTA, delta]]), 50) for diam in diams]).flatten()\n",
    "\n",
    "# rough matching\n",
    "dmin = diams[np.argmin(np.abs(decays - (target_decay)))]\n",
    "\n",
    "print(fmt_f(dmin, 2, 6) + \" um\")"
   ]
  },
  {
   "cell_type": "code",
   "execution_count": null,
   "metadata": {},
   "outputs": [],
   "source": []
  }
 ],
 "metadata": {
  "kernelspec": {
   "display_name": "Python 3",
   "language": "python",
   "name": "python3"
  },
  "language_info": {
   "codemirror_mode": {
    "name": "ipython",
    "version": 3
   },
   "file_extension": ".py",
   "mimetype": "text/x-python",
   "name": "python",
   "nbconvert_exporter": "python",
   "pygments_lexer": "ipython3",
   "version": "3.5.2"
  }
 },
 "nbformat": 4,
 "nbformat_minor": 4
}
